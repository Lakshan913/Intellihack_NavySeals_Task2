{
 "cells": [
  {
   "cell_type": "code",
   "execution_count": null,
   "id": "462bc8c1-3fe4-4949-a801-5aa4c2ae4bda",
   "metadata": {},
   "outputs": [],
   "source": []
  }
 ],
 "metadata": {
  "kernelspec": {
   "display_name": "",
   "name": ""
  },
  "language_info": {
   "name": ""
  }
 },
 "nbformat": 4,
 "nbformat_minor": 5
}
